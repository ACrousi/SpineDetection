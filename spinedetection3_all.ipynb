{
  "nbformat": 4,
  "nbformat_minor": 0,
  "metadata": {
    "colab": {
      "name": "SpineDetection3_all.ipynb",
      "provenance": [],
      "collapsed_sections": [],
      "toc_visible": true,
      "include_colab_link": true
    },
    "kernelspec": {
      "name": "python3",
      "display_name": "Python 3"
    },
    "language_info": {
      "name": "python"
    },
    "accelerator": "GPU"
  },
  "cells": [
    {
      "cell_type": "markdown",
      "metadata": {
        "id": "view-in-github",
        "colab_type": "text"
      },
      "source": [
        "<a href=\"https://colab.research.google.com/gist/ACrousi/6dec1a3e3d52c46a87b98c7b791572cf/spinedetection3_all.ipynb\" target=\"_parent\"><img src=\"https://colab.research.google.com/assets/colab-badge.svg\" alt=\"Open In Colab\"/></a>"
      ]
    },
    {
      "cell_type": "markdown",
      "metadata": {
        "id": "J3ma5rF0fGM-"
      },
      "source": [
        "# 環境模組安裝"
      ]
    },
    {
      "cell_type": "code",
      "metadata": {
        "id": "yMXql3pACXjC",
        "colab": {
          "base_uri": "https://localhost:8080/",
          "height": 1000
        },
        "outputId": "80ec3954-bf34-4dd8-eb46-bc46cfe6d04d"
      },
      "source": [
        "# !pip install git+https://github.com/philferriere/cocoapi.git#subdirectory=PythonAPI\n",
        "!pip install git+https://github.com/facebookresearch/detectron2.git\n",
        "!pip install funcy\n",
        "!git clone https://github.com/akarazniewicz/cocosplit.git\n",
        "\n",
        "from detectron2.utils.logger import setup_logger\n",
        "setup_logger()"
      ],
      "execution_count": null,
      "outputs": [
        {
          "output_type": "stream",
          "name": "stdout",
          "text": [
            "Collecting git+https://github.com/facebookresearch/detectron2.git\n",
            "  Cloning https://github.com/facebookresearch/detectron2.git to /tmp/pip-req-build-zsk9pfxf\n",
            "  Running command git clone -q https://github.com/facebookresearch/detectron2.git /tmp/pip-req-build-zsk9pfxf\n",
            "Requirement already satisfied: Pillow>=7.1 in /usr/local/lib/python3.7/dist-packages (from detectron2==0.6) (7.1.2)\n",
            "Requirement already satisfied: matplotlib in /usr/local/lib/python3.7/dist-packages (from detectron2==0.6) (3.2.2)\n",
            "Requirement already satisfied: pycocotools>=2.0.2 in /usr/local/lib/python3.7/dist-packages (from detectron2==0.6) (2.0.4)\n",
            "Requirement already satisfied: termcolor>=1.1 in /usr/local/lib/python3.7/dist-packages (from detectron2==0.6) (1.1.0)\n",
            "Collecting yacs>=0.1.8\n",
            "  Downloading yacs-0.1.8-py3-none-any.whl (14 kB)\n",
            "Requirement already satisfied: tabulate in /usr/local/lib/python3.7/dist-packages (from detectron2==0.6) (0.8.9)\n",
            "Requirement already satisfied: cloudpickle in /usr/local/lib/python3.7/dist-packages (from detectron2==0.6) (1.3.0)\n",
            "Requirement already satisfied: tqdm>4.29.0 in /usr/local/lib/python3.7/dist-packages (from detectron2==0.6) (4.62.3)\n",
            "Requirement already satisfied: tensorboard in /usr/local/lib/python3.7/dist-packages (from detectron2==0.6) (2.7.0)\n",
            "Collecting fvcore<0.1.6,>=0.1.5\n",
            "  Downloading fvcore-0.1.5.post20211023.tar.gz (49 kB)\n",
            "\u001b[K     |████████████████████████████████| 49 kB 4.8 MB/s \n",
            "\u001b[?25hCollecting iopath<0.1.10,>=0.1.7\n",
            "  Downloading iopath-0.1.9-py3-none-any.whl (27 kB)\n",
            "Requirement already satisfied: future in /usr/local/lib/python3.7/dist-packages (from detectron2==0.6) (0.16.0)\n",
            "Requirement already satisfied: pydot in /usr/local/lib/python3.7/dist-packages (from detectron2==0.6) (1.3.0)\n",
            "Collecting omegaconf>=2.1\n",
            "  Downloading omegaconf-2.1.1-py3-none-any.whl (74 kB)\n",
            "\u001b[K     |████████████████████████████████| 74 kB 1.7 MB/s \n",
            "\u001b[?25hCollecting hydra-core>=1.1\n",
            "  Downloading hydra_core-1.1.1-py3-none-any.whl (145 kB)\n",
            "\u001b[K     |████████████████████████████████| 145 kB 77.3 MB/s \n",
            "\u001b[?25hCollecting black==21.4b2\n",
            "  Downloading black-21.4b2-py3-none-any.whl (130 kB)\n",
            "\u001b[K     |████████████████████████████████| 130 kB 69.1 MB/s \n",
            "\u001b[?25hCollecting scipy>1.5.1\n",
            "  Downloading scipy-1.7.3-cp37-cp37m-manylinux_2_12_x86_64.manylinux2010_x86_64.whl (38.1 MB)\n",
            "\u001b[K     |████████████████████████████████| 38.1 MB 1.2 MB/s \n",
            "\u001b[?25hCollecting pathspec<1,>=0.8.1\n",
            "  Downloading pathspec-0.9.0-py2.py3-none-any.whl (31 kB)\n",
            "Requirement already satisfied: click>=7.1.2 in /usr/local/lib/python3.7/dist-packages (from black==21.4b2->detectron2==0.6) (7.1.2)\n",
            "Collecting regex>=2020.1.8\n",
            "  Downloading regex-2021.11.10-cp37-cp37m-manylinux_2_17_x86_64.manylinux2014_x86_64.whl (749 kB)\n",
            "\u001b[K     |████████████████████████████████| 749 kB 59.0 MB/s \n",
            "\u001b[?25hCollecting typed-ast>=1.4.2\n",
            "  Downloading typed_ast-1.5.1-cp37-cp37m-manylinux_2_5_x86_64.manylinux1_x86_64.manylinux_2_12_x86_64.manylinux2010_x86_64.whl (843 kB)\n",
            "\u001b[K     |████████████████████████████████| 843 kB 61.7 MB/s \n",
            "\u001b[?25hRequirement already satisfied: appdirs in /usr/local/lib/python3.7/dist-packages (from black==21.4b2->detectron2==0.6) (1.4.4)\n",
            "Collecting mypy-extensions>=0.4.3\n",
            "  Downloading mypy_extensions-0.4.3-py2.py3-none-any.whl (4.5 kB)\n",
            "Requirement already satisfied: toml>=0.10.1 in /usr/local/lib/python3.7/dist-packages (from black==21.4b2->detectron2==0.6) (0.10.2)\n",
            "Requirement already satisfied: typing-extensions>=3.7.4 in /usr/local/lib/python3.7/dist-packages (from black==21.4b2->detectron2==0.6) (3.10.0.2)\n",
            "Requirement already satisfied: numpy in /usr/local/lib/python3.7/dist-packages (from fvcore<0.1.6,>=0.1.5->detectron2==0.6) (1.19.5)\n",
            "Collecting pyyaml>=5.1\n",
            "  Downloading PyYAML-6.0-cp37-cp37m-manylinux_2_5_x86_64.manylinux1_x86_64.manylinux_2_12_x86_64.manylinux2010_x86_64.whl (596 kB)\n",
            "\u001b[K     |████████████████████████████████| 596 kB 70.8 MB/s \n",
            "\u001b[?25hCollecting antlr4-python3-runtime==4.8\n",
            "  Downloading antlr4-python3-runtime-4.8.tar.gz (112 kB)\n",
            "\u001b[K     |████████████████████████████████| 112 kB 74.8 MB/s \n",
            "\u001b[?25hRequirement already satisfied: importlib-resources in /usr/local/lib/python3.7/dist-packages (from hydra-core>=1.1->detectron2==0.6) (5.4.0)\n",
            "Collecting portalocker\n",
            "  Downloading portalocker-2.3.2-py2.py3-none-any.whl (15 kB)\n",
            "Requirement already satisfied: cycler>=0.10 in /usr/local/lib/python3.7/dist-packages (from matplotlib->detectron2==0.6) (0.11.0)\n",
            "Requirement already satisfied: kiwisolver>=1.0.1 in /usr/local/lib/python3.7/dist-packages (from matplotlib->detectron2==0.6) (1.3.2)\n",
            "Requirement already satisfied: python-dateutil>=2.1 in /usr/local/lib/python3.7/dist-packages (from matplotlib->detectron2==0.6) (2.8.2)\n",
            "Requirement already satisfied: pyparsing!=2.0.4,!=2.1.2,!=2.1.6,>=2.0.1 in /usr/local/lib/python3.7/dist-packages (from matplotlib->detectron2==0.6) (3.0.6)\n",
            "Requirement already satisfied: six>=1.5 in /usr/local/lib/python3.7/dist-packages (from python-dateutil>=2.1->matplotlib->detectron2==0.6) (1.15.0)\n",
            "Requirement already satisfied: zipp>=3.1.0 in /usr/local/lib/python3.7/dist-packages (from importlib-resources->hydra-core>=1.1->detectron2==0.6) (3.7.0)\n",
            "Requirement already satisfied: grpcio>=1.24.3 in /usr/local/lib/python3.7/dist-packages (from tensorboard->detectron2==0.6) (1.43.0)\n",
            "Requirement already satisfied: wheel>=0.26 in /usr/local/lib/python3.7/dist-packages (from tensorboard->detectron2==0.6) (0.37.1)\n",
            "Requirement already satisfied: requests<3,>=2.21.0 in /usr/local/lib/python3.7/dist-packages (from tensorboard->detectron2==0.6) (2.23.0)\n",
            "Requirement already satisfied: markdown>=2.6.8 in /usr/local/lib/python3.7/dist-packages (from tensorboard->detectron2==0.6) (3.3.6)\n",
            "Requirement already satisfied: google-auth<3,>=1.6.3 in /usr/local/lib/python3.7/dist-packages (from tensorboard->detectron2==0.6) (1.35.0)\n",
            "Requirement already satisfied: protobuf>=3.6.0 in /usr/local/lib/python3.7/dist-packages (from tensorboard->detectron2==0.6) (3.17.3)\n",
            "Requirement already satisfied: werkzeug>=0.11.15 in /usr/local/lib/python3.7/dist-packages (from tensorboard->detectron2==0.6) (1.0.1)\n",
            "Requirement already satisfied: tensorboard-data-server<0.7.0,>=0.6.0 in /usr/local/lib/python3.7/dist-packages (from tensorboard->detectron2==0.6) (0.6.1)\n",
            "Requirement already satisfied: absl-py>=0.4 in /usr/local/lib/python3.7/dist-packages (from tensorboard->detectron2==0.6) (0.12.0)\n",
            "Requirement already satisfied: setuptools>=41.0.0 in /usr/local/lib/python3.7/dist-packages (from tensorboard->detectron2==0.6) (57.4.0)\n",
            "Requirement already satisfied: tensorboard-plugin-wit>=1.6.0 in /usr/local/lib/python3.7/dist-packages (from tensorboard->detectron2==0.6) (1.8.1)\n",
            "Requirement already satisfied: google-auth-oauthlib<0.5,>=0.4.1 in /usr/local/lib/python3.7/dist-packages (from tensorboard->detectron2==0.6) (0.4.6)\n",
            "Requirement already satisfied: cachetools<5.0,>=2.0.0 in /usr/local/lib/python3.7/dist-packages (from google-auth<3,>=1.6.3->tensorboard->detectron2==0.6) (4.2.4)\n",
            "Requirement already satisfied: rsa<5,>=3.1.4 in /usr/local/lib/python3.7/dist-packages (from google-auth<3,>=1.6.3->tensorboard->detectron2==0.6) (4.8)\n",
            "Requirement already satisfied: pyasn1-modules>=0.2.1 in /usr/local/lib/python3.7/dist-packages (from google-auth<3,>=1.6.3->tensorboard->detectron2==0.6) (0.2.8)\n",
            "Requirement already satisfied: requests-oauthlib>=0.7.0 in /usr/local/lib/python3.7/dist-packages (from google-auth-oauthlib<0.5,>=0.4.1->tensorboard->detectron2==0.6) (1.3.0)\n",
            "Requirement already satisfied: importlib-metadata>=4.4 in /usr/local/lib/python3.7/dist-packages (from markdown>=2.6.8->tensorboard->detectron2==0.6) (4.10.0)\n",
            "Requirement already satisfied: pyasn1<0.5.0,>=0.4.6 in /usr/local/lib/python3.7/dist-packages (from pyasn1-modules>=0.2.1->google-auth<3,>=1.6.3->tensorboard->detectron2==0.6) (0.4.8)\n",
            "Requirement already satisfied: urllib3!=1.25.0,!=1.25.1,<1.26,>=1.21.1 in /usr/local/lib/python3.7/dist-packages (from requests<3,>=2.21.0->tensorboard->detectron2==0.6) (1.24.3)\n",
            "Requirement already satisfied: certifi>=2017.4.17 in /usr/local/lib/python3.7/dist-packages (from requests<3,>=2.21.0->tensorboard->detectron2==0.6) (2021.10.8)\n",
            "Requirement already satisfied: idna<3,>=2.5 in /usr/local/lib/python3.7/dist-packages (from requests<3,>=2.21.0->tensorboard->detectron2==0.6) (2.10)\n",
            "Requirement already satisfied: chardet<4,>=3.0.2 in /usr/local/lib/python3.7/dist-packages (from requests<3,>=2.21.0->tensorboard->detectron2==0.6) (3.0.4)\n",
            "Requirement already satisfied: oauthlib>=3.0.0 in /usr/local/lib/python3.7/dist-packages (from requests-oauthlib>=0.7.0->google-auth-oauthlib<0.5,>=0.4.1->tensorboard->detectron2==0.6) (3.1.1)\n",
            "Building wheels for collected packages: detectron2, fvcore, antlr4-python3-runtime\n",
            "  Building wheel for detectron2 (setup.py) ... \u001b[?25l\u001b[?25hdone\n",
            "  Created wheel for detectron2: filename=detectron2-0.6-cp37-cp37m-linux_x86_64.whl size=5713093 sha256=b7d2581fd53688291720861db736b2b00ed7b804e1323e3f65b580814ffe1cea\n",
            "  Stored in directory: /tmp/pip-ephem-wheel-cache-n3i3rqj7/wheels/07/dc/32/0322cb484dbefab8b9366bfedbaff5060ac7d149d69c27ca5d\n",
            "  Building wheel for fvcore (setup.py) ... \u001b[?25l\u001b[?25hdone\n",
            "  Created wheel for fvcore: filename=fvcore-0.1.5.post20211023-py3-none-any.whl size=60944 sha256=ea61a0440908e26269c4f57ef37f7e78ae81226dcd24d5d92e0744bb38b9af14\n",
            "  Stored in directory: /root/.cache/pip/wheels/16/98/fc/252d62cab6263c719120e06b28f3378af59b52ce7a20e81852\n",
            "  Building wheel for antlr4-python3-runtime (setup.py) ... \u001b[?25l\u001b[?25hdone\n",
            "  Created wheel for antlr4-python3-runtime: filename=antlr4_python3_runtime-4.8-py3-none-any.whl size=141230 sha256=c130802ee15ea0b09762ded056f49e5a10196edbc94f2664883c5ee884e0bca3\n",
            "  Stored in directory: /root/.cache/pip/wheels/ca/33/b7/336836125fc9bb4ceaa4376d8abca10ca8bc84ddc824baea6c\n",
            "Successfully built detectron2 fvcore antlr4-python3-runtime\n",
            "Installing collected packages: pyyaml, portalocker, antlr4-python3-runtime, yacs, typed-ast, regex, pathspec, omegaconf, mypy-extensions, iopath, scipy, hydra-core, fvcore, black, detectron2\n",
            "  Attempting uninstall: pyyaml\n",
            "    Found existing installation: PyYAML 3.13\n",
            "    Uninstalling PyYAML-3.13:\n",
            "      Successfully uninstalled PyYAML-3.13\n",
            "  Attempting uninstall: regex\n",
            "    Found existing installation: regex 2019.12.20\n",
            "    Uninstalling regex-2019.12.20:\n",
            "      Successfully uninstalled regex-2019.12.20\n",
            "  Attempting uninstall: scipy\n",
            "    Found existing installation: scipy 1.4.1\n",
            "    Uninstalling scipy-1.4.1:\n",
            "      Successfully uninstalled scipy-1.4.1\n",
            "\u001b[31mERROR: pip's dependency resolver does not currently take into account all the packages that are installed. This behaviour is the source of the following dependency conflicts.\n",
            "albumentations 0.1.12 requires imgaug<0.2.7,>=0.2.5, but you have imgaug 0.2.9 which is incompatible.\u001b[0m\n",
            "Successfully installed antlr4-python3-runtime-4.8 black-21.4b2 detectron2-0.6 fvcore-0.1.5.post20211023 hydra-core-1.1.1 iopath-0.1.9 mypy-extensions-0.4.3 omegaconf-2.1.1 pathspec-0.9.0 portalocker-2.3.2 pyyaml-6.0 regex-2021.11.10 scipy-1.7.3 typed-ast-1.5.1 yacs-0.1.8\n"
          ]
        },
        {
          "output_type": "display_data",
          "data": {
            "application/vnd.colab-display-data+json": {
              "pip_warning": {
                "packages": [
                  "pydevd_plugins"
                ]
              }
            }
          },
          "metadata": {}
        },
        {
          "output_type": "stream",
          "name": "stdout",
          "text": [
            "Collecting funcy\n",
            "  Downloading funcy-1.17-py2.py3-none-any.whl (33 kB)\n",
            "Installing collected packages: funcy\n",
            "Successfully installed funcy-1.17\n",
            "Cloning into 'cocosplit'...\n",
            "remote: Enumerating objects: 17, done.\u001b[K\n",
            "remote: Counting objects: 100% (6/6), done.\u001b[K\n",
            "remote: Compressing objects: 100% (3/3), done.\u001b[K\n",
            "remote: Total 17 (delta 3), reused 3 (delta 3), pack-reused 11\u001b[K\n",
            "Unpacking objects: 100% (17/17), done.\n"
          ]
        },
        {
          "output_type": "execute_result",
          "data": {
            "text/plain": [
              "<Logger detectron2 (DEBUG)>"
            ]
          },
          "metadata": {},
          "execution_count": 1
        }
      ]
    },
    {
      "cell_type": "markdown",
      "metadata": {
        "id": "wbtNt7UwfmgR"
      },
      "source": [
        "# 連接雲端硬碟"
      ]
    },
    {
      "cell_type": "code",
      "metadata": {
        "id": "3fgpr6rkM7Ew",
        "colab": {
          "base_uri": "https://localhost:8080/"
        },
        "outputId": "3604a508-e4e5-4216-eb36-2dc825a95d75"
      },
      "source": [
        "from google.colab import drive\n",
        "drive.mount('/content/drive')"
      ],
      "execution_count": null,
      "outputs": [
        {
          "output_type": "stream",
          "name": "stdout",
          "text": [
            "Mounted at /content/drive\n"
          ]
        }
      ]
    },
    {
      "cell_type": "markdown",
      "metadata": {
        "id": "77FWp9mLfsaJ"
      },
      "source": [
        "### 路徑參數設定"
      ]
    },
    {
      "cell_type": "code",
      "metadata": {
        "id": "K_B7ZEY7DyJE"
      },
      "source": [
        "cloud_path = '/content/drive/My Drive/407_SpineDetection'\n",
        "zip_path = cloud_path + '/spine_dataset.zip'\n",
        "to_path = '/_temp'\n",
        "ann_file = to_path+'/spine_ann.json'\n",
        "diagnosis_file = to_path+\"/diagnosis.csv\""
      ],
      "execution_count": null,
      "outputs": []
    },
    {
      "cell_type": "markdown",
      "metadata": {
        "id": "sPFKyYyWgG7l"
      },
      "source": [
        "### 解壓縮"
      ]
    },
    {
      "cell_type": "code",
      "metadata": {
        "id": "L7H4E3anNTBn"
      },
      "source": [
        "from zipfile import ZipFile\n",
        "\n",
        "!rm -rf \"/_temp\"\n",
        "\n",
        "def unzip(paths, to_path):\n",
        "  \"\"\"paths: list, to_path\"\"\"\n",
        "  for path in paths:\n",
        "    if path.endswith('.zip'):\n",
        "      with ZipFile(path, 'r') as zipObj:\n",
        "        zipObj.extractall(to_path)\n",
        "        childs = ['{}/{}'.format(to_path, file_name) for file_name in zipObj.namelist()]\n",
        "        unzip(childs, to_path)\n",
        "\n",
        "# unzip([zip_path], to_path)"
      ],
      "execution_count": null,
      "outputs": []
    },
    {
      "cell_type": "code",
      "metadata": {
        "colab": {
          "base_uri": "https://localhost:8080/"
        },
        "id": "-D4lgd4wIl5W",
        "outputId": "433b0ba7-47d2-4e8f-8da8-d9a3300ea403"
      },
      "source": [
        "import os\n",
        "\n",
        "%cd cocosplit/\n",
        "!python cocosplit.py -s 0.8 '/_temp/spine_ann.json' '/_temp/annotations/train.json' '/_temp/annotations/val.json'\n",
        "train_path = to_path + '/train/'\n",
        "val_path = train_path\n",
        "test_path = to_path + '/test/'\n",
        "train_ann = to_path + '/annotations/train.json'\n",
        "val_ann = to_path + '/annotations/val.json'\n",
        "test_ann = to_path + '/annotations/test.json'"
      ],
      "execution_count": null,
      "outputs": [
        {
          "output_type": "stream",
          "name": "stdout",
          "text": [
            "/content/cocosplit\n",
            "Traceback (most recent call last):\n",
            "  File \"cocosplit.py\", line 52, in <module>\n",
            "    main(args)\n",
            "  File \"cocosplit.py\", line 28, in main\n",
            "    with open(args.annotations, 'rt', encoding='UTF-8') as annotations:\n",
            "FileNotFoundError: [Errno 2] No such file or directory: '/_temp/spine_ann.json'\n"
          ]
        }
      ]
    },
    {
      "cell_type": "markdown",
      "metadata": {
        "id": "Skf_iridg3xi"
      },
      "source": [
        "# 建立診斷資料集"
      ]
    },
    {
      "cell_type": "markdown",
      "metadata": {
        "id": "UU9YLL7GRiTE"
      },
      "source": [
        "###IMAGE + TABULER 模型訓練"
      ]
    },
    {
      "cell_type": "markdown",
      "source": [
        "###解壓縮"
      ],
      "metadata": {
        "id": "epJKRAW0NsW3"
      }
    },
    {
      "cell_type": "code",
      "metadata": {
        "id": "cK-MLtsVLL9-"
      },
      "source": [
        "!rm -rf \"/_temp\""
      ],
      "execution_count": null,
      "outputs": []
    },
    {
      "cell_type": "code",
      "metadata": {
        "id": "IKEtiF3snqO8"
      },
      "source": [
        "zip_path = cloud_path + '/spine_multiclass.zip'\n",
        "\n",
        "unzip([zip_path], to_path)"
      ],
      "execution_count": null,
      "outputs": []
    },
    {
      "cell_type": "markdown",
      "source": [
        "###DataSet 宣告"
      ],
      "metadata": {
        "id": "LzGvrVKLNw4v"
      }
    },
    {
      "cell_type": "code",
      "metadata": {
        "id": "wbNWPeQvRh00"
      },
      "source": [
        "from torchvision import models, transforms\n",
        "from torch.utils.data import Dataset, DataLoader, WeightedRandomSampler\n",
        "import torch\n",
        "import numpy as np\n",
        "\n",
        "class cusDataset(Dataset):\n",
        "    def __init__(self, root, csv, transform):\n",
        "        ##############################################\n",
        "        ### Initialize paths, transforms, and so on\n",
        "        ### data list -> DataFrame ID, Label\n",
        "        ##############################################\n",
        "        self.transform = transform\n",
        "        self.df = pd.read_csv(csv)\n",
        "        self.col = [\"L1L2\",\"L2L3\",\"L3L4\", \"L4L5\", \"L5S1\"]\n",
        "        # \n",
        "        # load image path and annotations\n",
        "        self.imgs = self.df[\"file_name\"].tolist()                     #filename list\n",
        "        self.imgs = [ '{}/{}'.format(root, img) for img in self.imgs ]\n",
        "        # self.annotations = self.df.loc[:,self.col].copy().values.astype(np.float32)    #annotation list\n",
        "        self.lbls = self.df.loc[:,self.col].copy().to_numpy()                   #label list\n",
        "        assert len(self.imgs) == len(self.lbls), 'mismatched length!'\n",
        "        print ('Total data split: {}'.format(len(self.imgs)))\n",
        "        \n",
        "    def __getitem__(self, index):\n",
        "        ##############################################\n",
        "        # 1. Read from file (using numpy.fromfile, PIL.Image.open)\n",
        "        # 2. Preprocess the data (torchvision.Transform).\n",
        "        # 3. Return the data (e.g. image and label)\n",
        "        ##############################################\n",
        "        imgpath = self.imgs[index]\n",
        "        img = Image.open(imgpath).convert('RGB')\n",
        "        # size = img.size\n",
        "        (w,h) = img.size\n",
        "        img = img.resize((int(w*0.15),int(h*0.15)))\n",
        "        lbl = torch.FloatTensor(self.lbls[index])\n",
        "        if self.transform is not None:\n",
        "            img = self.transform(img)\n",
        "        return {\"img\":img, \"label\":lbl}\n",
        "        \n",
        "    def __len__(self):\n",
        "        ##############################################\n",
        "        ### Indicate the total size of the dataset\n",
        "        ##############################################\n",
        "        return len(self.imgs)\n",
        "\n"
      ],
      "execution_count": null,
      "outputs": []
    },
    {
      "cell_type": "markdown",
      "source": [
        "###模型建立"
      ],
      "metadata": {
        "id": "eMe5J9ziN6bi"
      }
    },
    {
      "cell_type": "code",
      "metadata": {
        "id": "Q-4XdqdrJV62"
      },
      "source": [
        "from torchvision import models, transforms\n",
        "from torch.utils.data import Dataset, DataLoader, WeightedRandomSampler\n",
        "from torch import nn\n",
        "import torch\n",
        "import math\n",
        "\n",
        "class SpineClassification(nn.Module):\n",
        "  def __init__(self):\n",
        "    super(SpineClassification, self).__init__()\n",
        "    #model = models.resnet50(pretrained=True)\n",
        "    self.cnn = models.efficientnet_b0(pretrained=True)\n",
        "    self.output_num = [4,2,1]\n",
        "    self.cnn.classifier[1]=nn.Linear(1280,5)\n",
        "\n",
        "    \n",
        "  def forward(self, image):\n",
        "    x = self.cnn(image)\n",
        "    return x"
      ],
      "execution_count": null,
      "outputs": []
    },
    {
      "cell_type": "code",
      "metadata": {
        "id": "xctebuXeeoZ9"
      },
      "source": [
        "import time\n",
        "import copy\n",
        "import torch\n",
        "from PIL import Image\n",
        "from sklearn.metrics import confusion_matrix, classification_report\n",
        "from sklearn.metrics import roc_curve, roc_auc_score, auc\n",
        "\n",
        "def tensor_th(model_pred, labels, th=0.5):\n",
        "  pred = model_pred > th\n",
        "  return pred.float()\n",
        "\n",
        "def calculate_pre_recall(pred, labels):\n",
        "  precision = 0\n",
        "  recall = 0\n",
        "  acc = 0\n",
        "  # pred = model_pred > th\n",
        "  # pred = pred.float()\n",
        "  precision = torch.sum(pred*labels) / torch.sum(pred)\n",
        "  recall = torch.sum(pred*labels) / torch.sum(labels)\n",
        "  acc = torch.sum(pred == labels) / pred.size(0)\n",
        "  return precision, recall, acc\n",
        "\n",
        "def calculate_acc(pred, labels):\n",
        "  pred = pred.reshape(-1,)\n",
        "  labels = labels.reshape(-1,)\n",
        "  acc = torch.sum(pred == labels)/pred.size(0)\n",
        "  return acc\n",
        "\n",
        "\n",
        "def train_model(model, dataloaders, criterion, optimizer, scheduler=None, num_epochs=25, is_inception=False, th=0.5):\n",
        "    since = time.time()\n",
        "    Sigmoid_fun = nn.Sigmoid()\n",
        "\n",
        "    history = {\n",
        "        'loss_val': [],\n",
        "        'loss_train': [],\n",
        "        'acc_val': [],\n",
        "        'acc_train': [],\n",
        "        'AUC_val': []\n",
        "    }\n",
        "\n",
        "    best_model_wts = copy.deepcopy(model.state_dict())\n",
        "    best_acc = 0.0\n",
        "    best_AUC = 0.0\n",
        "    best_loss = 0.0\n",
        "    best_epoch = 0\n",
        "\n",
        "    for epoch in range(num_epochs):\n",
        "        print('Epoch {}/{}'.format(epoch, num_epochs - 1))\n",
        "        print('-' * 10)\n",
        "\n",
        "        # Each epoch has a training and validation phase\n",
        "        \n",
        "        for phase in ['train', 'val']:\n",
        "            y_label = torch.tensor([])\n",
        "            y_pred = torch.tensor([])\n",
        "            if phase == 'train':\n",
        "                model.train()  # Set model to training mode\n",
        "            else:\n",
        "                model.eval()   # Set model to evaluate mode\n",
        "\n",
        "            running_loss = 0.0\n",
        "            running_corrects = 0\n",
        "\n",
        "            # Iterate over data.\n",
        "            # for inputs, annotation, labels in dataloaders[phase]:\n",
        "            for batch_index, dataset in enumerate(dataloaders[phase]):\n",
        "                inputs = dataset[\"img\"]\n",
        "                # annotation = dataset[\"annotation\"]\n",
        "                labels = dataset[\"label\"]\n",
        "                true_label = labels.clone()\n",
        "\n",
        "                inputs = inputs.to(device)\n",
        "                # annotation = annotation.to(device)\n",
        "                labels = labels.to(device)\n",
        "\n",
        "                # zero the parameter gradients\n",
        "                optimizer.zero_grad()\n",
        "\n",
        "                # forward\n",
        "                # track history if only in train\n",
        "                with torch.set_grad_enabled(phase == 'train'):\n",
        "                    # Get model outputs and calculate loss\n",
        "                    # Special case for inception because in training it has an auxiliary output. In train\n",
        "                    #   mode we calculate the loss by summing the final output and the auxiliary output\n",
        "                    #   but in testing we only consider the final output.\n",
        "                    if is_inception and phase == 'train':\n",
        "                        # From https://discuss.pytorch.org/t/how-to-optimize-inception-model-with-auxiliary-classifiers/7958\n",
        "                        # outputs, aux_outputs = model(inputs)\n",
        "                        outputs, aux_outputs = model(inputs)\n",
        "                        loss1 = criterion(outputs, labels)\n",
        "                        loss2 = criterion(aux_outputs, labels)\n",
        "                        loss = loss1 + 0.4*loss2\n",
        "                    else:\n",
        "                        # outputs = model(inputs)\n",
        "                        outputs = model(inputs)\n",
        "                        loss = criterion(Sigmoid_fun(outputs), labels)\n",
        "                        pred = Sigmoid_fun(outputs).clone().detach().cpu()\n",
        "                        pred = tensor_th(pred, true_label, th)\n",
        "\n",
        "                        # print(Sigmoid_fun(outputs), loss)\n",
        "                        # loss = criterion(outputs, labels)\n",
        "\n",
        "                    # _, preds = torch.max(outputs, 1)\n",
        "\n",
        "                    # backward + optimize only if in training phase\n",
        "                    if phase == 'train':\n",
        "                        loss.backward()\n",
        "                        optimizer.step()\n",
        "\n",
        "                # statistics\n",
        "                running_loss += loss.item() * inputs.size(0)\n",
        "                # running_corrects += sum(torch.sum(outputs == labels))\n",
        "                # print(outputs, labels)\n",
        "                # if phase == 'val':\n",
        "                y_label = torch.cat((y_label,true_label), 0)\n",
        "                y_pred = torch.cat((y_pred,pred), 0)\n",
        "\n",
        "            y_pred = torch.transpose(y_pred, 0, 1)\n",
        "            y_label = torch.transpose(y_label, 0, 1)\n",
        "\n",
        "            epoch_loss = running_loss / len(dataloaders[phase].dataset)\n",
        "            epoch_acc = calculate_acc(y_pred, y_label)\n",
        "            print('{} Loss: {:.4f} Acc: {}'.format(phase, epoch_loss, epoch_acc))\n",
        "            \n",
        "            if phase == \"val\":\n",
        "              for i in range(y_pred.shape[0]):\n",
        "                precision, recall, acc = calculate_pre_recall(y_pred[i], y_label[i])\n",
        "                print(\"{}: precision: {} recall: {} acc: {}\".format(i, precision, recall, acc))\n",
        "                print(confusion_matrix(y_label[i], y_pred[i]))\n",
        "            \n",
        "            # epoch_acc = running_corrects.double() / (len(dataloaders[phase].dataset) * inputs.size(0))\n",
        "            # if phase == 'val':\n",
        "              # fpr, tpr, threshold = roc_curve(y_label, y_pred)\n",
        "              # epoch_auc_score = auc(fpr, tpr)\n",
        "            # print('{} Loss: {:.4f} Acc: {:.4f}'.format(phase, epoch_loss, epoch_acc))\n",
        "            # if phase == 'val':\n",
        "              # print('AUC:',epoch_auc_score)\n",
        "\n",
        "            # deep copy the model\n",
        "            if phase == 'val' and epoch_acc > best_acc:\n",
        "              best_loss = epoch_loss\n",
        "              best_acc = epoch_acc\n",
        "              best_epoch = epoch\n",
        "              best_model_wts = copy.deepcopy(model.state_dict())\n",
        "            # if phase == 'val' and epoch_auc_score > best_AUC:\n",
        "                # best_acc = epoch_acc\n",
        "                # best_AUC = epoch_auc_score\n",
        "                # best_model_wts = copy.deepcopy(model.state_dict())\n",
        "            if phase == 'val':\n",
        "                history['acc_val'].append(epoch_acc)\n",
        "                history['loss_val'].append(epoch_loss)\n",
        "                # history['AUC_val'].append(epoch_auc_score)\n",
        "            else:\n",
        "                history['acc_train'].append(epoch_acc)\n",
        "                history['loss_train'].append(epoch_loss)\n",
        "        #confusion matrix\n",
        "\n",
        "        # for j in range(y_true.size[0]):\n",
        "        #   cnf_matrix = confusion_matrix(y_label[j], y_pred[j])\n",
        "        #   print(j+\":\")\n",
        "        #   print(cnf_matrix)\n",
        "        if scheduler is not None:\n",
        "          scheduler.step()\n",
        "        print()\n",
        "\n",
        "    time_elapsed = time.time() - since\n",
        "    print('Training complete in {:.0f}m {:.0f}s'.format(time_elapsed // 60, time_elapsed % 60))\n",
        "    print('Best val Acc: {:4f} Best val AUC: {:4f}'.format(best_acc, best_AUC))\n",
        "\n",
        "    # load best model weights\n",
        "    model.load_state_dict(best_model_wts)\n",
        "    return model, history"
      ],
      "execution_count": null,
      "outputs": []
    },
    {
      "cell_type": "markdown",
      "source": [
        "###HyperParameter設定"
      ],
      "metadata": {
        "id": "D5laa5bBOAqg"
      }
    },
    {
      "cell_type": "code",
      "metadata": {
        "id": "AuIsbC5SfjKc"
      },
      "source": [
        "# Top level data directory. Here we assume the format of the directory conforms\n",
        "# Models to choose from [resnet50, resnet152, alexnet, vgg, squeezenet, densenet, inception]\n",
        "model_name = \"efficientnet_b0\"\n",
        "\n",
        "# Number of classes in the dataset\n",
        "# num_classes = 2\n",
        "\n",
        "# Batch size for training (change depending on how much memory you have)\n",
        "batch_size = 8\n",
        "\n",
        "# Number of epochs to train for\n",
        "num_epochs = 200\n",
        "\n",
        "# Flag for feature extracting. When False, we finetune the whole model,\n",
        "#   when True we only update the reshaped layer params\n",
        "# True = 僅對最後一層 FCLayer 參數調整\n",
        "# False = 調整整個預訓練模型參數\n",
        "feature_extract = False\n",
        "\n",
        "\n",
        "name_optimizer = \"Adam\"    #(記錄用)\n",
        "\n",
        "# learning rate\n",
        "learning_rate = 0.0001\n",
        "\n",
        "# momentum (SGD)\n",
        "momentum = 0.9\n",
        "\n",
        "input_size = 224"
      ],
      "execution_count": null,
      "outputs": []
    },
    {
      "cell_type": "markdown",
      "source": [
        "###資料擴增設定"
      ],
      "metadata": {
        "id": "vXIL8cREOHTp"
      }
    },
    {
      "cell_type": "code",
      "metadata": {
        "id": "KhAdfcwhgCp1"
      },
      "source": [
        "data_transforms = {\n",
        "    'train': transforms.Compose([\n",
        "                # transforms.RandomVerticalFlip(),\n",
        "                # transforms.RandomHorizontalFlip(),\n",
        "                # transforms.Resize((256, 256)),\n",
        "                # transforms.RandomApply([\n",
        "                transforms.RandomAffine(degrees=(0,0), translate=(0.1,0.05), scale=(1,1.1)),                \n",
        "                # ], p=0.5),\n",
        "                # transforms.RandomCrop((input_size, input_size)),\n",
        "                # transforms.Resize(0.7),\n",
        "                transforms.CenterCrop((450, 300)),\n",
        "                transforms.Grayscale(3),\n",
        "                transforms.ToTensor(),\n",
        "                transforms.Normalize(mean=[0.3661, 0.3661, 0.3661], std=[0.2168, 0.2168, 0.2168]),           \n",
        "                # transforms.Normalize(mean=[0.2937, 0.2937, 0.2937], std=[0.2382, 0.2382, 0.2382]),\n",
        "                ]),\n",
        "    'val': transforms.Compose([\n",
        "                    # transforms.Resize(0.7),\n",
        "                    transforms.CenterCrop((450, 300)),\n",
        "                    transforms.Grayscale(3),\n",
        "                    transforms.ToTensor(),\n",
        "                    transforms.Normalize(mean=[0.3661, 0.3661, 0.3661], std=[0.2168, 0.2168, 0.2168]),\n",
        "                    # transforms.Normalize(mean=[0.2937, 0.2937, 0.2937],\n",
        "                    #                std=[0.2382, 0.2382, 0.2382]),\n",
        "                    ])\n",
        "}"
      ],
      "execution_count": null,
      "outputs": []
    },
    {
      "cell_type": "markdown",
      "source": [
        "###資料集宣告"
      ],
      "metadata": {
        "id": "rPmacBtTOOxw"
      }
    },
    {
      "cell_type": "code",
      "metadata": {
        "colab": {
          "base_uri": "https://localhost:8080/"
        },
        "id": "PmSdL2O7giwz",
        "outputId": "2879de48-63c4-427f-822a-3714fbd2d0a1"
      },
      "source": [
        "import pandas as pd\n",
        "\n",
        "train_img_dir = to_path + \"/datasets\"\n",
        "val_img_dir = train_img_dir\n",
        "\n",
        "dig_train_f = to_path + \"/train.csv\"\n",
        "dig_val_f = to_path + \"/val.csv\"\n",
        "\n",
        "trainset = cusDataset(root=train_img_dir, csv=dig_train_f, transform=data_transforms['train'])\n",
        "valset = cusDataset(root=val_img_dir, csv=dig_val_f, transform=data_transforms['val'])\n",
        "\n",
        "train_loader = DataLoader(dataset=trainset, batch_size=batch_size, shuffle=True, num_workers=2)\n",
        "val_loader = DataLoader(dataset=valset, batch_size=batch_size, shuffle=False, num_workers=2)"
      ],
      "execution_count": null,
      "outputs": [
        {
          "output_type": "stream",
          "name": "stdout",
          "text": [
            "Total data split: 392\n",
            "Total data split: 98\n"
          ]
        }
      ]
    },
    {
      "cell_type": "markdown",
      "source": [
        "###圖片預覽"
      ],
      "metadata": {
        "id": "W3p0eUoDOSvp"
      }
    },
    {
      "cell_type": "code",
      "metadata": {
        "colab": {
          "base_uri": "https://localhost:8080/",
          "height": 304
        },
        "id": "CitGFEhehn1l",
        "outputId": "1030b84d-6d4d-4834-bf6a-a435e2559de5"
      },
      "source": [
        "import matplotlib.pyplot as plt\n",
        "plt.imshow(trainset.__getitem__(5)[\"img\"].permute(1, 2, 0))\n",
        "print(trainset.__getitem__(71)[\"label\"])"
      ],
      "execution_count": null,
      "outputs": [
        {
          "output_type": "stream",
          "name": "stderr",
          "text": [
            "Clipping input data to the valid range for imshow with RGB data ([0..1] for floats or [0..255] for integers).\n"
          ]
        },
        {
          "output_type": "stream",
          "name": "stdout",
          "text": [
            "tensor([0., 0., 0., 1., 0.])\n"
          ]
        },
        {
          "output_type": "display_data",
          "data": {
            "image/png": "[encoded data removed]",
            "text/plain": [
              "<Figure size 432x288 with 1 Axes>"
            ]
          },
          "metadata": {
            "needs_background": "light"
          }
        }
      ]
    },
    {
      "cell_type": "markdown",
      "source": [
        "訓練模型優化器(Optimizer)、策略(scheduler)設定"
      ],
      "metadata": {
        "id": "nWSk1EMqOXmA"
      }
    },
    {
      "cell_type": "code",
      "metadata": {
        "colab": {
          "base_uri": "https://localhost:8080/"
        },
        "id": "ftY7ZzE2h-0j",
        "outputId": "9d7c9378-33e9-412d-a2fe-55f88b58b90b"
      },
      "source": [
        "import torch\n",
        "import torch.optim as optim\n",
        "\n",
        "device = torch.device(\"cuda:0\" if torch.cuda.is_available() else \"cpu\")\n",
        "# Send the model to GPU\n",
        "model = SpineClassification()\n",
        "model = model.to(device)\n",
        "\n",
        "# Gather the parameters to be optimized/updated in this run. If we are\n",
        "#  finetuning we will be updating all parameters. However, if we are\n",
        "#  doing feature extract method, we will only update the parameters\n",
        "#  that we have just initialized, i.e. the parameters with requires_grad\n",
        "#  is True.\n",
        "\n",
        "params_to_update = model.parameters()\n",
        "print(\"Params to learn:\")\n",
        "if feature_extract:\n",
        "    params_to_update = []\n",
        "    for name,param in model.named_parameters():\n",
        "        if param.requires_grad == True:\n",
        "            params_to_update.append(param)\n",
        "            print(\"\\t\",name)\n",
        "else:\n",
        "    for name,param in model.named_parameters():\n",
        "        if param.requires_grad == True:\n",
        "            print(\"\\t\",name)\n",
        "\n",
        "# 優化器策略\n",
        "optimizer = optim.Adam(model.parameters(), lr=learning_rate, betas=(0.9, 0.999), eps=1e-08, weight_decay=0, amsgrad=False)\n",
        "scheduler = optim.lr_scheduler.CosineAnnealingLR(optimizer,20,eta_min=0.00000001,last_epoch=-1)\n",
        "print(optimizer)\n",
        "criterion = nn.BCELoss()\n",
        "# criterion = nn.CrossEntropyLoss(weight=class_weights) "
      ],
      "execution_count": null,
      "outputs": [
        {
          "output_type": "stream",
          "name": "stdout",
          "text": [
            "Params to learn:\n",
            "\t cnn.features.0.0.weight\n",
            "\t cnn.features.0.1.weight\n",
            "\t cnn.features.0.1.bias\n",
            "\t cnn.features.1.0.block.0.0.weight\n",
            "\t cnn.features.1.0.block.0.1.weight\n",
            "\t cnn.features.1.0.block.0.1.bias\n",
            "\t cnn.features.1.0.block.1.fc1.weight\n",
            "\t cnn.features.1.0.block.1.fc1.bias\n",
            "\t cnn.features.1.0.block.1.fc2.weight\n",
            "\t cnn.features.1.0.block.1.fc2.bias\n",
            "\t cnn.features.1.0.block.2.0.weight\n",
            "\t cnn.features.1.0.block.2.1.weight\n",
            "\t cnn.features.1.0.block.2.1.bias\n",
            "\t cnn.features.2.0.block.0.0.weight\n",
            "\t cnn.features.2.0.block.0.1.weight\n",
            "\t cnn.features.2.0.block.0.1.bias\n",
            "\t cnn.features.2.0.block.1.0.weight\n",
            "\t cnn.features.2.0.block.1.1.weight\n",
            "\t cnn.features.2.0.block.1.1.bias\n",
            "\t cnn.features.2.0.block.2.fc1.weight\n",
            "\t cnn.features.2.0.block.2.fc1.bias\n",
            "\t cnn.features.2.0.block.2.fc2.weight\n",
            "\t cnn.features.2.0.block.2.fc2.bias\n",
            "\t cnn.features.2.0.block.3.0.weight\n",
            "\t cnn.features.2.0.block.3.1.weight\n",
            "\t cnn.features.2.0.block.3.1.bias\n",
            "\t cnn.features.2.1.block.0.0.weight\n",
            "\t cnn.features.2.1.block.0.1.weight\n",
            "\t cnn.features.2.1.block.0.1.bias\n",
            "\t cnn.features.2.1.block.1.0.weight\n",
            "\t cnn.features.2.1.block.1.1.weight\n",
            "\t cnn.features.2.1.block.1.1.bias\n",
            "\t cnn.features.2.1.block.2.fc1.weight\n",
            "\t cnn.features.2.1.block.2.fc1.bias\n",
            "\t cnn.features.2.1.block.2.fc2.weight\n",
            "\t cnn.features.2.1.block.2.fc2.bias\n",
            "\t cnn.features.2.1.block.3.0.weight\n",
            "\t cnn.features.2.1.block.3.1.weight\n",
            "\t cnn.features.2.1.block.3.1.bias\n",
            "\t cnn.features.3.0.block.0.0.weight\n",
            "\t cnn.features.3.0.block.0.1.weight\n",
            "\t cnn.features.3.0.block.0.1.bias\n",
            "\t cnn.features.3.0.block.1.0.weight\n",
            "\t cnn.features.3.0.block.1.1.weight\n",
            "\t cnn.features.3.0.block.1.1.bias\n",
            "\t cnn.features.3.0.block.2.fc1.weight\n",
            "\t cnn.features.3.0.block.2.fc1.bias\n",
            "\t cnn.features.3.0.block.2.fc2.weight\n",
            "\t cnn.features.3.0.block.2.fc2.bias\n",
            "\t cnn.features.3.0.block.3.0.weight\n",
            "\t cnn.features.3.0.block.3.1.weight\n",
            "\t cnn.features.3.0.block.3.1.bias\n",
            "\t cnn.features.3.1.block.0.0.weight\n",
            "\t cnn.features.3.1.block.0.1.weight\n",
            "\t cnn.features.3.1.block.0.1.bias\n",
            "\t cnn.features.3.1.block.1.0.weight\n",
            "\t cnn.features.3.1.block.1.1.weight\n",
            "\t cnn.features.3.1.block.1.1.bias\n",
            "\t cnn.features.3.1.block.2.fc1.weight\n",
            "\t cnn.features.3.1.block.2.fc1.bias\n",
            "\t cnn.features.3.1.block.2.fc2.weight\n",
            "\t cnn.features.3.1.block.2.fc2.bias\n",
            "\t cnn.features.3.1.block.3.0.weight\n",
            "\t cnn.features.3.1.block.3.1.weight\n",
            "\t cnn.features.3.1.block.3.1.bias\n",
            "\t cnn.features.4.0.block.0.0.weight\n",
            "\t cnn.features.4.0.block.0.1.weight\n",
            "\t cnn.features.4.0.block.0.1.bias\n",
            "\t cnn.features.4.0.block.1.0.weight\n",
            "\t cnn.features.4.0.block.1.1.weight\n",
            "\t cnn.features.4.0.block.1.1.bias\n",
            "\t cnn.features.4.0.block.2.fc1.weight\n",
            "\t cnn.features.4.0.block.2.fc1.bias\n",
            "\t cnn.features.4.0.block.2.fc2.weight\n",
            "\t cnn.features.4.0.block.2.fc2.bias\n",
            "\t cnn.features.4.0.block.3.0.weight\n",
            "\t cnn.features.4.0.block.3.1.weight\n",
            "\t cnn.features.4.0.block.3.1.bias\n",
            "\t cnn.features.4.1.block.0.0.weight\n",
            "\t cnn.features.4.1.block.0.1.weight\n",
            "\t cnn.features.4.1.block.0.1.bias\n",
            "\t cnn.features.4.1.block.1.0.weight\n",
            "\t cnn.features.4.1.block.1.1.weight\n",
            "\t cnn.features.4.1.block.1.1.bias\n",
            "\t cnn.features.4.1.block.2.fc1.weight\n",
            "\t cnn.features.4.1.block.2.fc1.bias\n",
            "\t cnn.features.4.1.block.2.fc2.weight\n",
            "\t cnn.features.4.1.block.2.fc2.bias\n",
            "\t cnn.features.4.1.block.3.0.weight\n",
            "\t cnn.features.4.1.block.3.1.weight\n",
            "\t cnn.features.4.1.block.3.1.bias\n",
            "\t cnn.features.4.2.block.0.0.weight\n",
            "\t cnn.features.4.2.block.0.1.weight\n",
            "\t cnn.features.4.2.block.0.1.bias\n",
            "\t cnn.features.4.2.block.1.0.weight\n",
            "\t cnn.features.4.2.block.1.1.weight\n",
            "\t cnn.features.4.2.block.1.1.bias\n",
            "\t cnn.features.4.2.block.2.fc1.weight\n",
            "\t cnn.features.4.2.block.2.fc1.bias\n",
            "\t cnn.features.4.2.block.2.fc2.weight\n",
            "\t cnn.features.4.2.block.2.fc2.bias\n",
            "\t cnn.features.4.2.block.3.0.weight\n",
            "\t cnn.features.4.2.block.3.1.weight\n",
            "\t cnn.features.4.2.block.3.1.bias\n",
            "\t cnn.features.5.0.block.0.0.weight\n",
            "\t cnn.features.5.0.block.0.1.weight\n",
            "\t cnn.features.5.0.block.0.1.bias\n",
            "\t cnn.features.5.0.block.1.0.weight\n",
            "\t cnn.features.5.0.block.1.1.weight\n",
            "\t cnn.features.5.0.block.1.1.bias\n",
            "\t cnn.features.5.0.block.2.fc1.weight\n",
            "\t cnn.features.5.0.block.2.fc1.bias\n",
            "\t cnn.features.5.0.block.2.fc2.weight\n",
            "\t cnn.features.5.0.block.2.fc2.bias\n",
            "\t cnn.features.5.0.block.3.0.weight\n",
            "\t cnn.features.5.0.block.3.1.weight\n",
            "\t cnn.features.5.0.block.3.1.bias\n",
            "\t cnn.features.5.1.block.0.0.weight\n",
            "\t cnn.features.5.1.block.0.1.weight\n",
            "\t cnn.features.5.1.block.0.1.bias\n",
            "\t cnn.features.5.1.block.1.0.weight\n",
            "\t cnn.features.5.1.block.1.1.weight\n",
            "\t cnn.features.5.1.block.1.1.bias\n",
            "\t cnn.features.5.1.block.2.fc1.weight\n",
            "\t cnn.features.5.1.block.2.fc1.bias\n",
            "\t cnn.features.5.1.block.2.fc2.weight\n",
            "\t cnn.features.5.1.block.2.fc2.bias\n",
            "\t cnn.features.5.1.block.3.0.weight\n",
            "\t cnn.features.5.1.block.3.1.weight\n",
            "\t cnn.features.5.1.block.3.1.bias\n",
            "\t cnn.features.5.2.block.0.0.weight\n",
            "\t cnn.features.5.2.block.0.1.weight\n",
            "\t cnn.features.5.2.block.0.1.bias\n",
            "\t cnn.features.5.2.block.1.0.weight\n",
            "\t cnn.features.5.2.block.1.1.weight\n",
            "\t cnn.features.5.2.block.1.1.bias\n",
            "\t cnn.features.5.2.block.2.fc1.weight\n",
            "\t cnn.features.5.2.block.2.fc1.bias\n",
            "\t cnn.features.5.2.block.2.fc2.weight\n",
            "\t cnn.features.5.2.block.2.fc2.bias\n",
            "\t cnn.features.5.2.block.3.0.weight\n",
            "\t cnn.features.5.2.block.3.1.weight\n",
            "\t cnn.features.5.2.block.3.1.bias\n",
            "\t cnn.features.6.0.block.0.0.weight\n",
            "\t cnn.features.6.0.block.0.1.weight\n",
            "\t cnn.features.6.0.block.0.1.bias\n",
            "\t cnn.features.6.0.block.1.0.weight\n",
            "\t cnn.features.6.0.block.1.1.weight\n",
            "\t cnn.features.6.0.block.1.1.bias\n",
            "\t cnn.features.6.0.block.2.fc1.weight\n",
            "\t cnn.features.6.0.block.2.fc1.bias\n",
            "\t cnn.features.6.0.block.2.fc2.weight\n",
            "\t cnn.features.6.0.block.2.fc2.bias\n",
            "\t cnn.features.6.0.block.3.0.weight\n",
            "\t cnn.features.6.0.block.3.1.weight\n",
            "\t cnn.features.6.0.block.3.1.bias\n",
            "\t cnn.features.6.1.block.0.0.weight\n",
            "\t cnn.features.6.1.block.0.1.weight\n",
            "\t cnn.features.6.1.block.0.1.bias\n",
            "\t cnn.features.6.1.block.1.0.weight\n",
            "\t cnn.features.6.1.block.1.1.weight\n",
            "\t cnn.features.6.1.block.1.1.bias\n",
            "\t cnn.features.6.1.block.2.fc1.weight\n",
            "\t cnn.features.6.1.block.2.fc1.bias\n",
            "\t cnn.features.6.1.block.2.fc2.weight\n",
            "\t cnn.features.6.1.block.2.fc2.bias\n",
            "\t cnn.features.6.1.block.3.0.weight\n",
            "\t cnn.features.6.1.block.3.1.weight\n",
            "\t cnn.features.6.1.block.3.1.bias\n",
            "\t cnn.features.6.2.block.0.0.weight\n",
            "\t cnn.features.6.2.block.0.1.weight\n",
            "\t cnn.features.6.2.block.0.1.bias\n",
            "\t cnn.features.6.2.block.1.0.weight\n",
            "\t cnn.features.6.2.block.1.1.weight\n",
            "\t cnn.features.6.2.block.1.1.bias\n",
            "\t cnn.features.6.2.block.2.fc1.weight\n",
            "\t cnn.features.6.2.block.2.fc1.bias\n",
            "\t cnn.features.6.2.block.2.fc2.weight\n",
            "\t cnn.features.6.2.block.2.fc2.bias\n",
            "\t cnn.features.6.2.block.3.0.weight\n",
            "\t cnn.features.6.2.block.3.1.weight\n",
            "\t cnn.features.6.2.block.3.1.bias\n",
            "\t cnn.features.6.3.block.0.0.weight\n",
            "\t cnn.features.6.3.block.0.1.weight\n",
            "\t cnn.features.6.3.block.0.1.bias\n",
            "\t cnn.features.6.3.block.1.0.weight\n",
            "\t cnn.features.6.3.block.1.1.weight\n",
            "\t cnn.features.6.3.block.1.1.bias\n",
            "\t cnn.features.6.3.block.2.fc1.weight\n",
            "\t cnn.features.6.3.block.2.fc1.bias\n",
            "\t cnn.features.6.3.block.2.fc2.weight\n",
            "\t cnn.features.6.3.block.2.fc2.bias\n",
            "\t cnn.features.6.3.block.3.0.weight\n",
            "\t cnn.features.6.3.block.3.1.weight\n",
            "\t cnn.features.6.3.block.3.1.bias\n",
            "\t cnn.features.7.0.block.0.0.weight\n",
            "\t cnn.features.7.0.block.0.1.weight\n",
            "\t cnn.features.7.0.block.0.1.bias\n",
            "\t cnn.features.7.0.block.1.0.weight\n",
            "\t cnn.features.7.0.block.1.1.weight\n",
            "\t cnn.features.7.0.block.1.1.bias\n",
            "\t cnn.features.7.0.block.2.fc1.weight\n",
            "\t cnn.features.7.0.block.2.fc1.bias\n",
            "\t cnn.features.7.0.block.2.fc2.weight\n",
            "\t cnn.features.7.0.block.2.fc2.bias\n",
            "\t cnn.features.7.0.block.3.0.weight\n",
            "\t cnn.features.7.0.block.3.1.weight\n",
            "\t cnn.features.7.0.block.3.1.bias\n",
            "\t cnn.features.8.0.weight\n",
            "\t cnn.features.8.1.weight\n",
            "\t cnn.features.8.1.bias\n",
            "\t cnn.classifier.1.weight\n",
            "\t cnn.classifier.1.bias\n",
            "Adam (\n",
            "Parameter Group 0\n",
            "    amsgrad: False\n",
            "    betas: (0.9, 0.999)\n",
            "    eps: 1e-08\n",
            "    initial_lr: 0.0001\n",
            "    lr: 0.0001\n",
            "    weight_decay: 0\n",
            ")\n"
          ]
        }
      ]
    },
    {
      "cell_type": "markdown",
      "source": [
        "#模型訓練"
      ],
      "metadata": {
        "id": "GPu-T3w2PH7t"
      }
    },
    {
      "cell_type": "markdown",
      "source": [
        "###模型訓練"
      ],
      "metadata": {
        "id": "h6sXPrviOjCg"
      }
    },
    {
      "cell_type": "code",
      "metadata": {
        "id": "xjKGYLgFiDB5"
      },
      "source": [
        "dataloaders = {\n",
        "    'train': train_loader,\n",
        "    'val': val_loader\n",
        "}\n",
        "\n",
        "model, history = train_model(model, dataloaders, criterion, optimizer, scheduler, num_epochs=num_epochs, is_inception=True if model_name == \"inception\" else False, th=0.5)\n"
      ],
      "execution_count": null,
      "outputs": []
    },
    {
      "cell_type": "markdown",
      "source": [
        "###儲存模型"
      ],
      "metadata": {
        "id": "8qFGZ6k4Olx8"
      }
    },
    {
      "cell_type": "code",
      "metadata": {
        "id": "2ZfQOPI1i2oz",
        "colab": {
          "base_uri": "https://localhost:8080/"
        },
        "outputId": "eabf4932-7457-4a46-fd19-cabf242d3809"
      },
      "source": [
        "import time\n",
        "import os\n",
        "\n",
        "t = time.localtime()\n",
        "# result_path = cloud_path + 'result/'\n",
        "LocalSave_path = '/content/drive/My Drive/Model_Report/'\n",
        "dir_path = LocalSave_path + time.strftime(\"%Y-%m-%d-%H-%M-%S\", t)\n",
        "print(time.strftime(\"%Y-%m-%d-%H-%M-%S\", t))\n",
        "\n",
        "if not os.path.exists(LocalSave_path):\n",
        "  print('mkdir ' + LocalSave_path)\n",
        "  os.mkdir(LocalSave_path)\n",
        "os.makedirs(dir_path, exist_ok=True)\n",
        "\n",
        "output_path = '{}/{}'.format(dir_path, 'SpineDetection_dg.pth')\n",
        "# torch.save colab 會有 error output, 不需要理會\n",
        "torch.save(model, output_path)\n",
        "# torch.save(model.state_dict(), output_path)"
      ],
      "execution_count": null,
      "outputs": [
        {
          "output_type": "stream",
          "name": "stdout",
          "text": [
            "2021-11-23-14-59-04\n"
          ]
        }
      ]
    },
    {
      "cell_type": "markdown",
      "source": [
        "###Loss、ACC圖表"
      ],
      "metadata": {
        "id": "MmE2DdTkOpge"
      }
    },
    {
      "cell_type": "code",
      "metadata": {
        "colab": {
          "base_uri": "https://localhost:8080/",
          "height": 374
        },
        "id": "l-zl7MoLjSPe",
        "outputId": "4dea8355-ca5c-4f11-9446-b51031576c2e"
      },
      "source": [
        "import matplotlib.pyplot as plt\n",
        "\n",
        "\n",
        "# plt.title(model_name)\n",
        "# plt.plot(history['loss_train'], label='Training Loss')\n",
        "# plt.plot(history['loss_val'], label='Validation Loss')\n",
        "# # plt.plot(test_losses, label='Validation loss')\n",
        "# plt.legend(frameon=False)\n",
        "# plt.show()\n",
        "\n",
        "fig = plt.figure(figsize = [14,12])\n",
        "ax1 = plt.subplot(2,2,1)\n",
        "ax2 = plt.subplot(2,2,2)\n",
        "\n",
        "def plot_curves(ax, mode='acc'):\n",
        "  plt.sca(ax)\n",
        "  plt.title(model_name)\n",
        "  if mode == \"loss\":\n",
        "    plt.plot(history['loss_train'], label='Training Loss')\n",
        "    plt.plot(history['loss_val'], label='Validation Loss')\n",
        "    plt.ylabel(\"Loss\")\n",
        "  else:\n",
        "    plt.plot(history['acc_train'], label='Training Accuracy')\n",
        "    plt.plot(history['acc_val'], label='Validation Accuracy')\n",
        "    plt.ylabel(\"Accuracy\")\n",
        "  plt.xlabel(\"epochs\")\n",
        "\n",
        "plot_curves(ax1, mode='loss')\n",
        "plot_curves(ax2, mode='acc')\n",
        "\n",
        "plt.savefig('{}/{}'.format(dir_path, '{}.png'.format(time.strftime(\"%Y-%m-%d-%H-%M-%S\", t))), format='png')"
      ],
      "execution_count": null,
      "outputs": [
        {
          "output_type": "display_data",
          "data": {
            "image/png": "[encoded data removed]",
            "text/plain": [
              "<Figure size 1008x864 with 2 Axes>"
            ]
          },
          "metadata": {
            "needs_background": "light"
          }
        }
      ]
    },
    {
      "cell_type": "markdown",
      "source": [
        "#模型測試"
      ],
      "metadata": {
        "id": "XerqwE3cPOCk"
      }
    },
    {
      "cell_type": "markdown",
      "source": [
        "###匯入測試資料集"
      ],
      "metadata": {
        "id": "Sb2UYcrzOy7k"
      }
    },
    {
      "cell_type": "code",
      "metadata": {
        "colab": {
          "base_uri": "https://localhost:8080/"
        },
        "id": "WGX-img3OUd_",
        "outputId": "b70f3ee5-a3ae-48e9-f471-2639911f55c0"
      },
      "source": [
        "import pandas as pd\n",
        "\n",
        "\n",
        "test_img_dir = to_path + \"/datasets\"\n",
        "\n",
        "dig_test_f = to_path + \"/test.csv\"\n",
        "\n",
        "\n",
        "testset = cusDataset(root=test_img_dir, csv=dig_test_f, transform=data_transforms['val'])\n",
        "\n",
        "test_loader = DataLoader(dataset=testset, batch_size=batch_size, shuffle=False, num_workers=2)"
      ],
      "execution_count": null,
      "outputs": [
        {
          "output_type": "stream",
          "name": "stdout",
          "text": [
            "Total data split: 95\n"
          ]
        }
      ]
    },
    {
      "cell_type": "markdown",
      "source": [
        "###T-SNE圖表分析"
      ],
      "metadata": {
        "id": "2WI3o7Y0O4wk"
      }
    },
    {
      "cell_type": "code",
      "metadata": {
        "colab": {
          "base_uri": "https://localhost:8080/"
        },
        "id": "xno7ybvSNvEb",
        "outputId": "ef5a9348-2804-47de-dd0d-05b239f694bb"
      },
      "source": [
        "# load model  (T-SNE)\n",
        "import torch\n",
        "import torch.nn as nn\n",
        "import torch.nn.functional as nnf\n",
        "from PIL import Image\n",
        "# import sklearn.feature_extraction as feature_extraction\n",
        "device = torch.device(\"cuda:0\" if torch.cuda.is_available() else \"cpu\")\n",
        "# output_path = cloud_path + '2021-11-17-14-12-17/SpineDetection_dg.pth'\n",
        "model = torch.load(output_path)\n",
        "# model.load_state_dict(torch.load(output_path))\n",
        "model.eval()\n",
        "# model = model.cnn.features\n",
        "\n",
        "\n",
        "x_features = torch.tensor([])\n",
        "x_features = x_features.to(device)\n",
        "\n",
        "x_annotations = torch.tensor([])\n",
        "x_annotations = x_annotations.to(device)\n",
        "for batch_index, dataset in enumerate(val_loader):\n",
        "  with torch.no_grad():\n",
        "    inputs = dataset[\"img\"]\n",
        "    labels = dataset[\"label\"]\n",
        "\n",
        "    inputs = inputs.to(device)\n",
        "    labels = labels.to(device)\n",
        "    outputs = model(inputs)\n",
        "    x_features = torch.cat((x_features,outputs), 0)\n",
        "    print(x_features.shape)\n",
        "x_features = x_features.reshape(x_features.shape[0],-1)\n",
        "print(x_features.shape)"
      ],
      "execution_count": null,
      "outputs": [
        {
          "output_type": "stream",
          "name": "stdout",
          "text": [
            "torch.Size([8, 5])\n",
            "torch.Size([16, 5])\n",
            "torch.Size([24, 5])\n",
            "torch.Size([32, 5])\n",
            "torch.Size([40, 5])\n",
            "torch.Size([48, 5])\n",
            "torch.Size([56, 5])\n",
            "torch.Size([64, 5])\n",
            "torch.Size([72, 5])\n",
            "torch.Size([80, 5])\n",
            "torch.Size([88, 5])\n",
            "torch.Size([96, 5])\n",
            "torch.Size([98, 5])\n",
            "torch.Size([98, 5])\n"
          ]
        }
      ]
    },
    {
      "cell_type": "code",
      "metadata": {
        "colab": {
          "base_uri": "https://localhost:8080/",
          "height": 276
        },
        "id": "IrYR9VNENzB8",
        "outputId": "414958a5-128e-4c6e-ab5e-62313872ccd1"
      },
      "source": [
        "from sklearn.preprocessing import StandardScaler\n",
        "from sklearn.manifold import TSNE \n",
        "import pandas as pd\n",
        "x_test = x_features.tolist()\n",
        "y_test = pd.read_csv(dig_val_f)[\"L4L5\"].tolist()\n",
        "X_std = StandardScaler().fit_transform(x_test) \n",
        "tsne = TSNE(n_components=2) \n",
        "X_tsne = tsne.fit_transform(X_std) \n",
        "X_tsne_data = np.vstack((X_tsne.T, y_test)).T \n",
        "df_tsne = pd.DataFrame(X_tsne_data, columns=[\"Dim1\", \"Dim2\", \"class\"]) \n",
        "df_tsne.head()"
      ],
      "execution_count": null,
      "outputs": [
        {
          "output_type": "stream",
          "name": "stderr",
          "text": [
            "/usr/local/lib/python3.7/dist-packages/sklearn/manifold/_t_sne.py:783: FutureWarning: The default initialization in TSNE will change from 'random' to 'pca' in 1.2.\n",
            "  FutureWarning,\n",
            "/usr/local/lib/python3.7/dist-packages/sklearn/manifold/_t_sne.py:793: FutureWarning: The default learning rate in TSNE will change from 200.0 to 'auto' in 1.2.\n",
            "  FutureWarning,\n"
          ]
        },
        {
          "output_type": "execute_result",
          "data": {
            "text/html": [
              "<div>\n",
              "<style scoped>\n",
              "    .dataframe tbody tr th:only-of-type {\n",
              "        vertical-align: middle;\n",
              "    }\n",
              "\n",
              "    .dataframe tbody tr th {\n",
              "        vertical-align: top;\n",
              "    }\n",
              "\n",
              "    .dataframe thead th {\n",
              "        text-align: right;\n",
              "    }\n",
              "</style>\n",
              "<table border=\"1\" class=\"dataframe\">\n",
              "  <thead>\n",
              "    <tr style=\"text-align: right;\">\n",
              "      <th></th>\n",
              "      <th>Dim1</th>\n",
              "      <th>Dim2</th>\n",
              "      <th>class</th>\n",
              "    </tr>\n",
              "  </thead>\n",
              "  <tbody>\n",
              "    <tr>\n",
              "      <th>0</th>\n",
              "      <td>3.228812</td>\n",
              "      <td>-0.879887</td>\n",
              "      <td>1.0</td>\n",
              "    </tr>\n",
              "    <tr>\n",
              "      <th>1</th>\n",
              "      <td>1.085029</td>\n",
              "      <td>-2.965627</td>\n",
              "      <td>1.0</td>\n",
              "    </tr>\n",
              "    <tr>\n",
              "      <th>2</th>\n",
              "      <td>5.367304</td>\n",
              "      <td>0.283558</td>\n",
              "      <td>0.0</td>\n",
              "    </tr>\n",
              "    <tr>\n",
              "      <th>3</th>\n",
              "      <td>2.906599</td>\n",
              "      <td>1.755295</td>\n",
              "      <td>1.0</td>\n",
              "    </tr>\n",
              "    <tr>\n",
              "      <th>4</th>\n",
              "      <td>2.371324</td>\n",
              "      <td>-3.562999</td>\n",
              "      <td>0.0</td>\n",
              "    </tr>\n",
              "  </tbody>\n",
              "</table>\n",
              "</div>"
            ],
            "text/plain": [
              "       Dim1      Dim2  class\n",
              "0  3.228812 -0.879887    1.0\n",
              "1  1.085029 -2.965627    1.0\n",
              "2  5.367304  0.283558    0.0\n",
              "3  2.906599  1.755295    1.0\n",
              "4  2.371324 -3.562999    0.0"
            ]
          },
          "metadata": {},
          "execution_count": 21
        }
      ]
    },
    {
      "cell_type": "code",
      "metadata": {
        "colab": {
          "base_uri": "https://localhost:8080/",
          "height": 404
        },
        "id": "oH-QNfmTN0Yj",
        "outputId": "09fe772b-1a99-4b8f-a789-e7e7b4206205"
      },
      "source": [
        "import seaborn as sns \n",
        "import matplotlib.pyplot as plt\n",
        "plt.figure(figsize=(6, 6)) \n",
        "plt.title(\"L4L5\")\n",
        "sns.scatterplot(data=df_tsne, hue=\"class\", x=\"Dim1\", y=\"Dim2\") \n",
        "plt.show()"
      ],
      "execution_count": null,
      "outputs": [
        {
          "output_type": "display_data",
          "data": {
            "image/png": "[encoded data removed]",
            "text/plain": [
              "<Figure size 432x432 with 1 Axes>"
            ]
          },
          "metadata": {
            "needs_background": "light"
          }
        }
      ]
    },
    {
      "cell_type": "code",
      "metadata": {
        "colab": {
          "base_uri": "https://localhost:8080/"
        },
        "id": "B3TIfnRp0bGY",
        "outputId": "9f59e4e4-4edf-42bd-e06c-32613a0ddcb8"
      },
      "source": [
        "import pandas as pd\n",
        "\n",
        "\n",
        "test_img_dir = to_path + \"/datasets\"\n",
        "\n",
        "\n",
        "dig_test_f = to_path + \"/test.csv\"\n",
        "\n",
        "\n",
        "\n",
        "testset = cusDataset(root=test_img_dir, csv=dig_test_f, transform=data_transforms['val'])\n",
        "\n",
        "test_loader = DataLoader(dataset=testset, batch_size=batch_size, shuffle=False, num_workers=2)"
      ],
      "execution_count": null,
      "outputs": [
        {
          "output_type": "stream",
          "name": "stdout",
          "text": [
            "Total data split: 95\n"
          ]
        }
      ]
    },
    {
      "cell_type": "markdown",
      "source": [
        "###混淆矩陣分析"
      ],
      "metadata": {
        "id": "ki9Ry1WNO9UV"
      }
    },
    {
      "cell_type": "code",
      "metadata": {
        "colab": {
          "base_uri": "https://localhost:8080/"
        },
        "id": "22QJjxxWaWoO",
        "outputId": "6880c075-3197-44ef-864e-ecda27a7f58b"
      },
      "source": [
        "# load model\n",
        "import torch.nn.functional as nnf\n",
        "device = torch.device(\"cuda:0\" if torch.cuda.is_available() else \"cpu\")\n",
        "# output_path = '/content/drive/My Drive/Model_Report/2021-11-13-05-31-28/SpineDetection_dg.pth'\n",
        "model = torch.load(output_path)\n",
        "# model.load_state_dict(torch.load(output_path))\n",
        "model.eval()\n",
        "\n",
        "# y_pred = []\n",
        "# score = []\n",
        "# y_prob = []\n",
        "\n",
        "y_label = torch.tensor([])\n",
        "y_pred = torch.tensor([])\n",
        "Sigmoid_fun = nn.Sigmoid()\n",
        "\n",
        "for batch_index, dataset in enumerate(test_loader):\n",
        "  with torch.no_grad():\n",
        "    inputs = dataset[\"img\"]\n",
        "    # annotation = dataset[\"annotation\"]\n",
        "    labels = dataset[\"label\"]\n",
        "    true_label = labels.clone()\n",
        "\n",
        "    inputs = inputs.to(device)\n",
        "    # annotation = annotation.to(device)\n",
        "    labels = labels.to(device)\n",
        "    outputs = model(inputs) \n",
        "    loss = criterion(Sigmoid_fun(outputs), labels)\n",
        "    pred = Sigmoid_fun(outputs).clone().detach().cpu()\n",
        "    pred = tensor_th(pred, true_label, 0.5)\n",
        "\n",
        "    # prob = nnf.softmax(outputs, dim=1)\n",
        "    # y_prob += prob.tolist()\n",
        "    # _, predicted = torch.max(outputs, 1)\n",
        "    # y_pred += predicted.tolist()\n",
        "\n",
        "    y_label = torch.cat((y_label,true_label), 0)\n",
        "    y_pred = torch.cat((y_pred,pred), 0)\n",
        "\n",
        "y_pred = torch.transpose(y_pred, 0, 1)\n",
        "y_label = torch.transpose(y_label, 0, 1)\n",
        "\n",
        "acc = calculate_acc(y_pred, y_label)\n",
        "print(\"acc: {}\".format(acc))\n",
        "\n",
        "for i in range(y_pred.shape[0]):\n",
        "  precision, recall, acc = calculate_pre_recall(y_pred[i], y_label[i])\n",
        "  print(\"{}: precision: {} recall: {} acc:{}\".format(i, precision, recall, acc))\n",
        "  print(confusion_matrix(y_label[i], y_pred[i]))"
      ],
      "execution_count": null,
      "outputs": [
        {
          "output_type": "stream",
          "name": "stdout",
          "text": [
            "acc: 0.8168420791625977\n",
            "0: precision: nan recall: 0.0 acc:0.9578947424888611\n",
            "[[91  0]\n",
            " [ 4  0]]\n",
            "1: precision: 0.5 recall: 0.125 acc:0.9157894849777222\n",
            "[[86  1]\n",
            " [ 7  1]]\n",
            "2: precision: 0.5 recall: 0.32258063554763794 acc:0.6736842393875122\n",
            "[[54 10]\n",
            " [21 10]]\n",
            "3: precision: 0.581818163394928 recall: 0.8648648858070374 acc:0.7052631378173828\n",
            "[[35 23]\n",
            " [ 5 32]]\n",
            "4: precision: 0.20000000298023224 recall: 0.4285714328289032 acc:0.8315789699554443\n",
            "[[76 12]\n",
            " [ 4  3]]\n"
          ]
        }
      ]
    },
    {
      "cell_type": "code",
      "metadata": {
        "id": "i4gv-VRtbL3r"
      },
      "source": [
        "from sklearn.metrics import classification_report\n",
        "from sklearn.metrics import confusion_matrix\n",
        "import matplotlib.pyplot as plt\n",
        "import itertools\n",
        "\n",
        "def plot_confusion_matrix(ax, cm, classes, title='Confusion matrix', cmap=plt.cm.Blues):\n",
        "    plt.sca(ax)\n",
        "    plt.imshow(cm, interpolation='nearest', cmap=cmap)\n",
        "    plt.title(title)\n",
        "    plt.colorbar()\n",
        "    tick_marks = np.arange(len(classes))\n",
        "    plt.xticks(tick_marks, classes, rotation=45)\n",
        "    plt.yticks(tick_marks, classes)\n",
        "\n",
        "    fmt = 'd'\n",
        "    thresh = cm.max() / 2.\n",
        "    for i, j in itertools.product(range(cm.shape[0]), range(cm.shape[1])):\n",
        "        plt.text(j, i, format(cm[i, j], fmt),\n",
        "                 horizontalalignment=\"center\",\n",
        "                 color=\"white\" if cm[i, j] > thresh else \"black\")\n",
        "\n",
        "    plt.ylabel('True label')\n",
        "    plt.xlabel('Predicted label')\n",
        "    plt.tight_layout()"
      ],
      "execution_count": null,
      "outputs": []
    },
    {
      "cell_type": "code",
      "metadata": {
        "colab": {
          "base_uri": "https://localhost:8080/",
          "height": 729
        },
        "id": "BoJxseQSbNrb",
        "outputId": "00643d9b-7c71-428c-e897-3d89086bf9a9"
      },
      "source": [
        "\n",
        "fig = plt.figure(figsize = [12,10])\n",
        "ax1 = plt.subplot(3,2,1)\n",
        "ax2 = plt.subplot(3,2,2)\n",
        "ax3 = plt.subplot(3,2,3)\n",
        "ax4 = plt.subplot(3,2,4)\n",
        "ax5 = plt.subplot(3,2,5)\n",
        "\n",
        "plot_confusion_matrix(ax1, confusion_matrix(y_label[0], y_pred[0]), classes=[0, 1], title=\"L1L2\")\n",
        "plot_confusion_matrix(ax2, confusion_matrix(y_label[1], y_pred[1]), classes=[0, 1], title=\"L2L3\")\n",
        "plot_confusion_matrix(ax3, confusion_matrix(y_label[2], y_pred[2]), classes=[0, 1], title=\"L3L4\")\n",
        "plot_confusion_matrix(ax4, confusion_matrix(y_label[3], y_pred[3]), classes=[0, 1], title=\"L4L5\")\n",
        "plot_confusion_matrix(ax5, confusion_matrix(y_label[4], y_pred[4]), classes=[0, 1], title=\"L5S1\")\n"
      ],
      "execution_count": null,
      "outputs": [
        {
          "output_type": "display_data",
          "data": {
            "image/png": "[encoded data removed]",
            "text/plain": [
              "<Figure size 864x720 with 10 Axes>"
            ]
          },
          "metadata": {
            "needs_background": "light"
          }
        }
      ]
    },
    {
      "cell_type": "code",
      "metadata": {
        "id": "5q95tFNob3r9"
      },
      "source": [
        "# test_df = pd.read_csv(dig_test_f)\n",
        "test_df_re = pd.DataFrame(data={\"file_name\":[file_name.rsplit('/',1)[1] for file_name in testset.imgs], \"L1L2\":y_pred[0], \"L2L3\":y_pred[1], \"L3L4\":y_pred[2], \"L4L5\":y_pred[3], \"L5S1\":y_pred[4]})\n",
        "test_df_re.to_csv('{}/{}'.format(dir_path, '0.2test.csv'))\n",
        "\n",
        "# test_df.to_csv(\"/_temp/pred.csv\")"
      ],
      "execution_count": null,
      "outputs": []
    },
    {
      "cell_type": "markdown",
      "source": [
        "###Grad-CAM"
      ],
      "metadata": {
        "id": "XTMoftp6PlSQ"
      }
    },
    {
      "cell_type": "code",
      "source": [
        "!pip install grad-cam==1.2.9\n",
        "!pip install ttach\n",
        "from pytorch_grad_cam import GradCAM, ScoreCAM, GradCAMPlusPlus, AblationCAM, XGradCAM, EigenCAM\n",
        "from pytorch_grad_cam.utils.image import show_cam_on_image"
      ],
      "metadata": {
        "id": "SCGTFWYlPobY"
      },
      "execution_count": null,
      "outputs": []
    },
    {
      "cell_type": "code",
      "source": [
        "testset = cusDataset(root=test_img_dir, csv=dig_test_f, transform=data_transforms['val'], spine=5)\n",
        "test_loader = DataLoader(dataset=testset, batch_size=batch_size, shuffle=False, num_workers=2)"
      ],
      "metadata": {
        "id": "YW5ez5lHP4iA"
      },
      "execution_count": null,
      "outputs": []
    },
    {
      "cell_type": "code",
      "source": [
        "def tensor_to_image(img):\n",
        "    img = img * 0.2252 + 0.345     # unnormalize 數值參考transform normalize\n",
        "    npimg = img.numpy()\n",
        "    npimg = np.transpose(npimg, (1, 2, 0))\n",
        "    return npimg\n",
        "def grad_CAM_img(model, input_tensor, target_category):\n",
        "  heat_maps = []\n",
        "  cam = GradCAM(model=model, target_layer=model.cnn.features.norm5, use_cuda=True)\n",
        "  grayscale_cam = cam(input_tensor=input_tensor, target_category=target_category)\n",
        "  for index, gs_cam in enumerate(grayscale_cam):\n",
        "    visual_img = show_cam_on_image(tensor_to_image(input_tensor[index]), 1-gs_cam)\n",
        "    heat_maps.append(visual_img) \n",
        "  return heat_maps\n",
        "\n",
        "y_test, y_pred = fc_predict(model, test_loader)\n",
        "pic_index = 0\n",
        "file_name = [file_name.rsplit('/',1)[1] for file_name in testset.imgs]\n",
        "# r = int(testset.__len__()/batch_size)+1\n",
        "for batch_idx, data in enumerate(test_loader):\n",
        "    fig = plt.figure(figsize = [16,7])\n",
        "    inputs = data[\"img\"]\n",
        "    labels = data[\"label\"]\n",
        "    imgs = grad_CAM_img(model, inputs, labels)\n",
        "    for i in range(len(labels)):\n",
        "      plt.subplot(1,len(labels),i+1)\n",
        "      plt.imshow(imgs[i])\n",
        "      plt.gca().set_title(\"T:\"+str(y_test[pic_index])+\" P:\"+str(y_pred[pic_index]))\n",
        "      plt.xticks([])\n",
        "      plt.yticks([])\n",
        "      plt.xlabel(file_name[pic_index])\n",
        "      pic_index += 1\n",
        "    plt.savefig('{}/batch_{}_{}'.format(dir_path, batch_idx, 'Grad_CAM.png'), format='png')\n",
        "    plt.show()"
      ],
      "metadata": {
        "id": "cO7S8SmvP7un"
      },
      "execution_count": null,
      "outputs": []
    }
  ]
}